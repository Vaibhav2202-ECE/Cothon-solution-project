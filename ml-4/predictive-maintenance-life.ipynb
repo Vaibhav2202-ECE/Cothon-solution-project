{
 "cells": [
  {
   "cell_type": "markdown",
   "metadata": {
    "id": "xIYcsvy0ZqjX"
   },
   "source": [
    "# Imports"
   ]
  },
  {
   "cell_type": "code",
   "execution_count": 6,
   "metadata": {
    "execution": {
     "iopub.execute_input": "2025-01-23T05:49:44.270166Z",
     "iopub.status.busy": "2025-01-23T05:49:44.269873Z",
     "iopub.status.idle": "2025-01-23T05:49:52.252000Z",
     "shell.execute_reply": "2025-01-23T05:49:52.250962Z",
     "shell.execute_reply.started": "2025-01-23T05:49:44.270145Z"
    },
    "trusted": true
   },
   "outputs": [
    {
     "name": "stdout",
     "output_type": "stream",
     "text": [
      "Requirement already satisfied: lifelines in /opt/conda/lib/python3.10/site-packages (0.30.0)\n",
      "Requirement already satisfied: pandas>=2.1 in /opt/conda/lib/python3.10/site-packages (from lifelines) (2.2.3)\n",
      "Requirement already satisfied: formulaic>=0.2.2 in /opt/conda/lib/python3.10/site-packages (from lifelines) (1.1.1)\n",
      "Requirement already satisfied: scipy>=1.7.0 in /opt/conda/lib/python3.10/site-packages (from lifelines) (1.9.3)\n",
      "Requirement already satisfied: autograd>=1.5 in /opt/conda/lib/python3.10/site-packages (from lifelines) (1.7.0)\n",
      "Requirement already satisfied: autograd-gamma>=0.3 in /opt/conda/lib/python3.10/site-packages (from lifelines) (0.5.0)\n",
      "Requirement already satisfied: matplotlib>=3.0 in /opt/conda/lib/python3.10/site-packages (from lifelines) (3.6.3)\n",
      "Requirement already satisfied: numpy>=1.14.0 in /opt/conda/lib/python3.10/site-packages (from lifelines) (1.23.5)\n",
      "Requirement already satisfied: wrapt>=1.0 in /opt/conda/lib/python3.10/site-packages (from formulaic>=0.2.2->lifelines) (1.15.0)\n",
      "Requirement already satisfied: interface-meta>=1.2.0 in /opt/conda/lib/python3.10/site-packages (from formulaic>=0.2.2->lifelines) (1.3.0)\n",
      "Requirement already satisfied: typing-extensions>=4.2.0 in /opt/conda/lib/python3.10/site-packages (from formulaic>=0.2.2->lifelines) (4.5.0)\n",
      "Requirement already satisfied: cycler>=0.10 in /opt/conda/lib/python3.10/site-packages (from matplotlib>=3.0->lifelines) (0.11.0)\n",
      "Requirement already satisfied: contourpy>=1.0.1 in /opt/conda/lib/python3.10/site-packages (from matplotlib>=3.0->lifelines) (1.0.7)\n",
      "Requirement already satisfied: kiwisolver>=1.0.1 in /opt/conda/lib/python3.10/site-packages (from matplotlib>=3.0->lifelines) (1.4.4)\n",
      "Requirement already satisfied: packaging>=20.0 in /opt/conda/lib/python3.10/site-packages (from matplotlib>=3.0->lifelines) (21.3)\n",
      "Requirement already satisfied: pillow>=6.2.0 in /opt/conda/lib/python3.10/site-packages (from matplotlib>=3.0->lifelines) (9.5.0)\n",
      "Requirement already satisfied: python-dateutil>=2.7 in /opt/conda/lib/python3.10/site-packages (from matplotlib>=3.0->lifelines) (2.8.2)\n",
      "Requirement already satisfied: fonttools>=4.22.0 in /opt/conda/lib/python3.10/site-packages (from matplotlib>=3.0->lifelines) (4.39.3)\n",
      "Requirement already satisfied: pyparsing>=2.2.1 in /opt/conda/lib/python3.10/site-packages (from matplotlib>=3.0->lifelines) (3.0.9)\n",
      "Requirement already satisfied: tzdata>=2022.7 in /opt/conda/lib/python3.10/site-packages (from pandas>=2.1->lifelines) (2023.3)\n",
      "Requirement already satisfied: pytz>=2020.1 in /opt/conda/lib/python3.10/site-packages (from pandas>=2.1->lifelines) (2023.3)\n",
      "Requirement already satisfied: six>=1.5 in /opt/conda/lib/python3.10/site-packages (from python-dateutil>=2.7->matplotlib>=3.0->lifelines) (1.16.0)\n",
      "\u001b[33mWARNING: Running pip as the 'root' user can result in broken permissions and conflicting behaviour with the system package manager. It is recommended to use a virtual environment instead: https://pip.pypa.io/warnings/venv\u001b[0m\u001b[33m\n",
      "\u001b[0m"
     ]
    }
   ],
   "source": [
    "!pip install lifelines"
   ]
  },
  {
   "cell_type": "code",
   "execution_count": 1,
   "metadata": {
    "execution": {
     "iopub.execute_input": "2025-01-24T15:39:23.309315Z",
     "iopub.status.busy": "2025-01-24T15:39:23.309041Z",
     "iopub.status.idle": "2025-01-24T15:39:24.557488Z",
     "shell.execute_reply": "2025-01-24T15:39:24.556245Z",
     "shell.execute_reply.started": "2025-01-24T15:39:23.309287Z"
    },
    "trusted": true
   },
   "outputs": [
    {
     "name": "stderr",
     "output_type": "stream",
     "text": [
      "/opt/conda/lib/python3.10/site-packages/scipy/__init__.py:146: UserWarning: A NumPy version >=1.16.5 and <1.23.0 is required for this version of SciPy (detected version 1.23.5\n",
      "  warnings.warn(f\"A NumPy version >={np_minversion} and <{np_maxversion}\"\n"
     ]
    },
    {
     "ename": "ModuleNotFoundError",
     "evalue": "No module named 'lifelines'",
     "output_type": "error",
     "traceback": [
      "\u001b[0;31m---------------------------------------------------------------------------\u001b[0m",
      "\u001b[0;31mModuleNotFoundError\u001b[0m                       Traceback (most recent call last)",
      "Cell \u001b[0;32mIn[1], line 15\u001b[0m\n\u001b[1;32m     13\u001b[0m \u001b[38;5;28;01mfrom\u001b[39;00m \u001b[38;5;21;01msklearn\u001b[39;00m\u001b[38;5;21;01m.\u001b[39;00m\u001b[38;5;21;01mlinear_model\u001b[39;00m \u001b[38;5;28;01mimport\u001b[39;00m LinearRegression\n\u001b[1;32m     14\u001b[0m \u001b[38;5;28;01mfrom\u001b[39;00m \u001b[38;5;21;01msklearn\u001b[39;00m\u001b[38;5;21;01m.\u001b[39;00m\u001b[38;5;21;01mmodel_selection\u001b[39;00m \u001b[38;5;28;01mimport\u001b[39;00m StratifiedShuffleSplit\n\u001b[0;32m---> 15\u001b[0m \u001b[38;5;28;01mfrom\u001b[39;00m \u001b[38;5;21;01mlifelines\u001b[39;00m \u001b[38;5;28;01mimport\u001b[39;00m KaplanMeierFitter\n",
      "\u001b[0;31mModuleNotFoundError\u001b[0m: No module named 'lifelines'"
     ]
    }
   ],
   "source": [
    "import matplotlib.pyplot as plt\n",
    "import matplotlib.ticker as mtick\n",
    "import numpy as np\n",
    "import pandas as pd\n",
    "import random\n",
    "# import scipy.stats as ss\n",
    "\n",
    "import h5py\n",
    "import missingno\n",
    "import seaborn as sns\n",
    "\n",
    "from sklearn.ensemble import IsolationForest\n",
    "from sklearn.linear_model import LinearRegression\n",
    "from sklearn.model_selection import StratifiedShuffleSplit\n",
    "from lifelines import KaplanMeierFitter"
   ]
  },
  {
   "cell_type": "markdown",
   "metadata": {
    "id": "ZKT6D89AhEkG"
   },
   "source": [
    "# Predictive maintenance"
   ]
  },
  {
   "cell_type": "code",
   "execution_count": 8,
   "metadata": {
    "execution": {
     "iopub.execute_input": "2025-01-23T05:49:52.261397Z",
     "iopub.status.busy": "2025-01-23T05:49:52.261090Z",
     "iopub.status.idle": "2025-01-23T05:49:52.924033Z",
     "shell.execute_reply": "2025-01-23T05:49:52.923111Z",
     "shell.execute_reply.started": "2025-01-23T05:49:52.261369Z"
    },
    "executionInfo": {
     "elapsed": 1485,
     "status": "ok",
     "timestamp": 1684756044260,
     "user": {
      "displayName": "Ange VALLI",
      "userId": "07174695979630093145"
     },
     "user_tz": -120
    },
    "id": "sf94Jz4c1dth",
    "outputId": "67d3ac69-4527-48d2-ef1f-2eb82f77131c",
    "trusted": true
   },
   "outputs": [
    {
     "name": "stdout",
     "output_type": "stream",
     "text": [
      "Unexpected exception formatting exception. Falling back to standard exception\n"
     ]
    },
    {
     "name": "stderr",
     "output_type": "stream",
     "text": [
      "Traceback (most recent call last):\n",
      "  File \"/opt/conda/lib/python3.10/site-packages/IPython/core/formatters.py\", line 223, in catch_format_error\n",
      "    r = method(self, *args, **kwargs)\n",
      "  File \"/opt/conda/lib/python3.10/site-packages/IPython/core/formatters.py\", line 344, in __call__\n",
      "    return method()\n",
      "  File \"/opt/conda/lib/python3.10/site-packages/pandas/core/frame.py\", line 1106, in _repr_html_\n",
      "  File \"/opt/conda/lib/python3.10/site-packages/pandas/io/formats/format.py\", line 1110, in to_html\n",
      "    When formatting an Index subclass\n",
      "  File \"/opt/conda/lib/python3.10/site-packages/pandas/io/formats/html.py\", line 88, in to_string\n",
      "    lines = self.render()\n",
      "  File \"/opt/conda/lib/python3.10/site-packages/pandas/io/formats/html.py\", line 644, in render\n",
      "    super().render()\n",
      "  File \"/opt/conda/lib/python3.10/site-packages/pandas/io/formats/html.py\", line 94, in render\n",
      "    self._write_table()\n",
      "  File \"/opt/conda/lib/python3.10/site-packages/pandas/io/formats/html.py\", line 267, in _write_table\n",
      "    self._write_header(indent + self.indent_delta)\n",
      "  File \"/opt/conda/lib/python3.10/site-packages/pandas/io/formats/html.py\", line 403, in _write_header\n",
      "    self._write_col_header(indent + self.indent_delta)\n",
      "  File \"/opt/conda/lib/python3.10/site-packages/pandas/io/formats/html.py\", line 383, in _write_col_header\n",
      "    row.extend(self._get_columns_formatted_values())\n",
      "  File \"/opt/conda/lib/python3.10/site-packages/pandas/io/formats/html.py\", line 611, in _get_columns_formatted_values\n",
      "    return self.columns._format_flat(include_name=False)\n",
      "AttributeError: 'Index' object has no attribute '_format_flat'\n",
      "\n",
      "During handling of the above exception, another exception occurred:\n",
      "\n",
      "Traceback (most recent call last):\n",
      "  File \"/opt/conda/lib/python3.10/site-packages/IPython/core/interactiveshell.py\", line 2102, in showtraceback\n",
      "    stb = self.InteractiveTB.structured_traceback(\n",
      "  File \"/opt/conda/lib/python3.10/site-packages/IPython/core/ultratb.py\", line 1310, in structured_traceback\n",
      "    return FormattedTB.structured_traceback(\n",
      "  File \"/opt/conda/lib/python3.10/site-packages/IPython/core/ultratb.py\", line 1199, in structured_traceback\n",
      "    return VerboseTB.structured_traceback(\n",
      "  File \"/opt/conda/lib/python3.10/site-packages/IPython/core/ultratb.py\", line 1052, in structured_traceback\n",
      "    formatted_exception = self.format_exception_as_a_whole(etype, evalue, etb, number_of_lines_of_context,\n",
      "  File \"/opt/conda/lib/python3.10/site-packages/IPython/core/ultratb.py\", line 978, in format_exception_as_a_whole\n",
      "    frames.append(self.format_record(record))\n",
      "  File \"/opt/conda/lib/python3.10/site-packages/IPython/core/ultratb.py\", line 878, in format_record\n",
      "    frame_info.lines, Colors, self.has_colors, lvals\n",
      "  File \"/opt/conda/lib/python3.10/site-packages/IPython/core/ultratb.py\", line 712, in lines\n",
      "    return self._sd.lines\n",
      "  File \"/opt/conda/lib/python3.10/site-packages/stack_data/utils.py\", line 144, in cached_property_wrapper\n",
      "    value = obj.__dict__[self.func.__name__] = self.func(obj)\n",
      "  File \"/opt/conda/lib/python3.10/site-packages/stack_data/core.py\", line 734, in lines\n",
      "    pieces = self.included_pieces\n",
      "  File \"/opt/conda/lib/python3.10/site-packages/stack_data/utils.py\", line 144, in cached_property_wrapper\n",
      "    value = obj.__dict__[self.func.__name__] = self.func(obj)\n",
      "  File \"/opt/conda/lib/python3.10/site-packages/stack_data/core.py\", line 681, in included_pieces\n",
      "    pos = scope_pieces.index(self.executing_piece)\n",
      "  File \"/opt/conda/lib/python3.10/site-packages/stack_data/utils.py\", line 144, in cached_property_wrapper\n",
      "    value = obj.__dict__[self.func.__name__] = self.func(obj)\n",
      "  File \"/opt/conda/lib/python3.10/site-packages/stack_data/core.py\", line 660, in executing_piece\n",
      "    return only(\n",
      "  File \"/opt/conda/lib/python3.10/site-packages/executing/executing.py\", line 190, in only\n",
      "    raise NotOneValueFound('Expected one value, found 0')\n",
      "executing.executing.NotOneValueFound: Expected one value, found 0\n"
     ]
    },
    {
     "data": {
      "text/plain": [
       "   Unnamed: 0  usage  Temperature     Pression  censored  \\\n",
       "0           0  False    14.975284  1000.695430     False   \n",
       "1           1  False    16.857807   992.757881     False   \n",
       "2           2  False    18.565954  1002.509288     False   \n",
       "3           3   True    14.681768   994.701873     False   \n",
       "4           4  False    16.365552   995.131057     False   \n",
       "\n",
       "  event (fail or censored)  \n",
       "0          374.96963956347  \n",
       "1       336.45767926983166  \n",
       "2       268.89438720990216  \n",
       "3        59.60865767745483  \n",
       "4         573.565608383586  "
      ]
     },
     "execution_count": 8,
     "metadata": {},
     "output_type": "execute_result"
    }
   ],
   "source": [
    "filename: str = \"/kaggle/input/predictive-maintenance-dataset/Dataset_2.1.csv\"\n",
    "data = pd.read_csv(filename, sep=',')\n",
    "data.head()"
   ]
  },
  {
   "cell_type": "code",
   "execution_count": 9,
   "metadata": {
    "execution": {
     "iopub.execute_input": "2025-01-23T05:49:52.925957Z",
     "iopub.status.busy": "2025-01-23T05:49:52.925703Z",
     "iopub.status.idle": "2025-01-23T05:49:53.147241Z",
     "shell.execute_reply": "2025-01-23T05:49:53.146436Z",
     "shell.execute_reply.started": "2025-01-23T05:49:52.925935Z"
    },
    "executionInfo": {
     "elapsed": 1251,
     "status": "ok",
     "timestamp": 1684756045506,
     "user": {
      "displayName": "Ange VALLI",
      "userId": "07174695979630093145"
     },
     "user_tz": -120
    },
    "id": "suq1mgl5ptHP",
    "outputId": "8386913f-ccca-43e2-c779-b0002b0ace8a",
    "trusted": true
   },
   "outputs": [
    {
     "name": "stdout",
     "output_type": "stream",
     "text": [
      "estimation k: 1.0756203289115371 estimation lambda: 5405.37646218178\n"
     ]
    },
    {
     "data": {
      "image/png": "[encoded data removed]",
      "text/plain": [
       "<Figure size 640x480 with 1 Axes>"
      ]
     },
     "metadata": {},
     "output_type": "display_data"
    }
   ],
   "source": [
    "# First method :\n",
    "# We perform a parametric estimation by Weibull distribution.\n",
    "n_sample=1000\n",
    "equipement_life = np.sort(data.loc[data['censored'] == False, 'event (fail or censored)'].to_list()[0:n_sample]).astype(float)\n",
    "t = np.arange(1, 1020, 10)\n",
    "f, v = np.histogram(equipement_life, t)\n",
    "\n",
    "F = np.cumsum(f)\n",
    "F = F / 10000\n",
    "plt.plot((v[0:-1]+v[1:])/2, F)\n",
    "logt = np.log((t[0:-1]+t[1:])/2)\n",
    "loglogF = np.log(-np.log(1-F))\n",
    "\n",
    "lr = LinearRegression()\n",
    "logt = logt[~np.isinf(loglogF)]\n",
    "loglogF = loglogF[~np.isinf(loglogF)]\n",
    "lr.fit(logt.reshape(-1, 1), loglogF.reshape(-1, 1))\n",
    "\n",
    "k_hat = lr.coef_[0][0]\n",
    "lambda_hat = np.exp(lr.intercept_/(-k_hat))[0]\n",
    "\n",
    "print('estimation k:', k_hat, 'estimation lambda:', lambda_hat)"
   ]
  },
  {
   "cell_type": "code",
   "execution_count": 10,
   "metadata": {
    "execution": {
     "iopub.execute_input": "2025-01-23T05:49:53.148825Z",
     "iopub.status.busy": "2025-01-23T05:49:53.148471Z",
     "iopub.status.idle": "2025-01-23T05:49:53.286863Z",
     "shell.execute_reply": "2025-01-23T05:49:53.285981Z",
     "shell.execute_reply.started": "2025-01-23T05:49:53.148794Z"
    },
    "executionInfo": {
     "elapsed": 16,
     "status": "ok",
     "timestamp": 1684756045507,
     "user": {
      "displayName": "Ange VALLI",
      "userId": "07174695979630093145"
     },
     "user_tz": -120
    },
    "id": "KHFMEyHm9_TW",
    "outputId": "6a54ad07-36fb-4c18-c501-0fa3757baf45",
    "trusted": true
   },
   "outputs": [
    {
     "data": {
      "text/plain": [
       "[<matplotlib.lines.Line2D at 0x7ca9ebd29840>]"
      ]
     },
     "execution_count": 10,
     "metadata": {},
     "output_type": "execute_result"
    },
    {
     "data": {
      "image/png": "[encoded data removed]",
      "text/plain": [
       "<Figure size 640x480 with 1 Axes>"
      ]
     },
     "metadata": {},
     "output_type": "display_data"
    }
   ],
   "source": [
    "d = np.arange(0, np.max(equipement_life))\n",
    "survival = (k_hat/lambda_hat) * np.power((d/lambda_hat),(k_hat-1))*np.exp(-np.power((d/lambda_hat), k_hat))\n",
    "plt.plot(d, survival)"
   ]
  },
  {
   "cell_type": "code",
   "execution_count": 11,
   "metadata": {
    "execution": {
     "iopub.execute_input": "2025-01-23T05:49:53.288175Z",
     "iopub.status.busy": "2025-01-23T05:49:53.287867Z",
     "iopub.status.idle": "2025-01-23T05:49:53.481243Z",
     "shell.execute_reply": "2025-01-23T05:49:53.477992Z",
     "shell.execute_reply.started": "2025-01-23T05:49:53.288147Z"
    },
    "id": "JF__16L26CdC",
    "trusted": true
   },
   "outputs": [
    {
     "name": "stdout",
     "output_type": "stream",
     "text": [
      "Unexpected exception formatting exception. Falling back to standard exception\n"
     ]
    },
    {
     "name": "stderr",
     "output_type": "stream",
     "text": [
      "Traceback (most recent call last):\n",
      "  File \"/opt/conda/lib/python3.10/site-packages/IPython/core/interactiveshell.py\", line 3505, in run_code\n",
      "    exec(code_obj, self.user_global_ns, self.user_ns)\n",
      "  File \"/tmp/ipykernel_35/2480106649.py\", line 17, in <module>\n",
      "    kmf.survival_function_.plot(ax=plt.gca())\n",
      "  File \"/opt/conda/lib/python3.10/site-packages/pandas/plotting/_core.py\", line 920, in __call__\n",
      "  File \"/opt/conda/lib/python3.10/site-packages/pandas/plotting/_core.py\", line 1886, in _get_plot_backend\n",
      "    if hasattr(eps, \"select\"):\n",
      "  File \"/opt/conda/lib/python3.10/site-packages/pandas/plotting/_core.py\", line 1817, in _load_backend\n",
      "    >>> ax = df.plot.hexbin(x='x', y='y', gridsize=20)\n",
      "ImportError: matplotlib is required for plotting when the default backend \"matplotlib\" is selected.\n",
      "\n",
      "During handling of the above exception, another exception occurred:\n",
      "\n",
      "Traceback (most recent call last):\n",
      "  File \"/opt/conda/lib/python3.10/site-packages/IPython/core/interactiveshell.py\", line 2102, in showtraceback\n",
      "    stb = self.InteractiveTB.structured_traceback(\n",
      "  File \"/opt/conda/lib/python3.10/site-packages/IPython/core/ultratb.py\", line 1310, in structured_traceback\n",
      "    return FormattedTB.structured_traceback(\n",
      "  File \"/opt/conda/lib/python3.10/site-packages/IPython/core/ultratb.py\", line 1199, in structured_traceback\n",
      "    return VerboseTB.structured_traceback(\n",
      "  File \"/opt/conda/lib/python3.10/site-packages/IPython/core/ultratb.py\", line 1052, in structured_traceback\n",
      "    formatted_exception = self.format_exception_as_a_whole(etype, evalue, etb, number_of_lines_of_context,\n",
      "  File \"/opt/conda/lib/python3.10/site-packages/IPython/core/ultratb.py\", line 978, in format_exception_as_a_whole\n",
      "    frames.append(self.format_record(record))\n",
      "  File \"/opt/conda/lib/python3.10/site-packages/IPython/core/ultratb.py\", line 878, in format_record\n",
      "    frame_info.lines, Colors, self.has_colors, lvals\n",
      "  File \"/opt/conda/lib/python3.10/site-packages/IPython/core/ultratb.py\", line 712, in lines\n",
      "    return self._sd.lines\n",
      "  File \"/opt/conda/lib/python3.10/site-packages/stack_data/utils.py\", line 144, in cached_property_wrapper\n",
      "    value = obj.__dict__[self.func.__name__] = self.func(obj)\n",
      "  File \"/opt/conda/lib/python3.10/site-packages/stack_data/core.py\", line 734, in lines\n",
      "    pieces = self.included_pieces\n",
      "  File \"/opt/conda/lib/python3.10/site-packages/stack_data/utils.py\", line 144, in cached_property_wrapper\n",
      "    value = obj.__dict__[self.func.__name__] = self.func(obj)\n",
      "  File \"/opt/conda/lib/python3.10/site-packages/stack_data/core.py\", line 681, in included_pieces\n",
      "    pos = scope_pieces.index(self.executing_piece)\n",
      "  File \"/opt/conda/lib/python3.10/site-packages/stack_data/utils.py\", line 144, in cached_property_wrapper\n",
      "    value = obj.__dict__[self.func.__name__] = self.func(obj)\n",
      "  File \"/opt/conda/lib/python3.10/site-packages/stack_data/core.py\", line 660, in executing_piece\n",
      "    return only(\n",
      "  File \"/opt/conda/lib/python3.10/site-packages/executing/executing.py\", line 190, in only\n",
      "    raise NotOneValueFound('Expected one value, found 0')\n",
      "executing.executing.NotOneValueFound: Expected one value, found 0\n"
     ]
    },
    {
     "data": {
      "image/png": "[encoded data removed]",
      "text/plain": [
       "<Figure size 1500x400 with 1 Axes>"
      ]
     },
     "metadata": {},
     "output_type": "display_data"
    }
   ],
   "source": [
    "n_sample=1000\n",
    "\n",
    "#Kaplan Meier\n",
    "durations=data.loc[data['censored'] == False, 'event (fail or censored)'].to_list()[0:n_sample]\n",
    "event_observed=data.loc[data['censored'] == False, 'usage'].to_list()[0:n_sample]\n",
    "durations = np.array(durations).astype(float)\n",
    "event_observed = np.array(event_observed)\n",
    "\n",
    "# Kaplan Meier estimation\n",
    "kmf = KaplanMeierFitter()\n",
    "\n",
    "# Fitting\n",
    "kmf.fit(durations, event_observed)\n",
    "\n",
    "# Displaying the survival function and confidence intervals\n",
    "fig, ax = plt.subplots(figsize=(15,4))\n",
    "kmf.survival_function_.plot(ax=plt.gca())\n",
    "ax.set_title(\"Kaplan-Meier Survival function\", fontsize=20)\n",
    "\n",
    "confidence_interval = kmf.confidence_interval_survival_function_\n",
    "time_steps = confidence_interval.index\n",
    "low, high = np.transpose(confidence_interval.values)\n",
    "ax.fill_between(time_steps, low, high, color=\"gray\", alpha=0.3)\n",
    "ax.yaxis.set_major_formatter(mtick.PercentFormatter(1.0))\n",
    "ax.set_ylabel(\"S(t) Survival function\")\n",
    "ax.set_xlabel(\"Time\")\n",
    "ax.legend([\"Kaplan-Meier Survival function\", \"Confidence Interval\"])\n",
    "plt.show()"
   ]
  },
  {
   "cell_type": "code",
   "execution_count": null,
   "metadata": {
    "execution": {
     "iopub.status.busy": "2025-01-23T05:49:53.482337Z",
     "iopub.status.idle": "2025-01-23T05:49:53.483226Z",
     "shell.execute_reply": "2025-01-23T05:49:53.482936Z",
     "shell.execute_reply.started": "2025-01-23T05:49:53.482906Z"
    },
    "id": "Cedx676CKkiL",
    "trusted": true
   },
   "outputs": [],
   "source": [
    "# 1) Corrective maintainance\n",
    "limit_time = 365*3\n",
    "equipement_life = np.sort(data.loc[data['censored'] == False, 'event (fail or censored)'].to_list()[0:n_sample]).astype(float)\n",
    "cost_samples = np.zeros(1000)\n",
    "for simulation in range(1000):\n",
    "    cost = 0\n",
    "    limite = limit_time\n",
    "    tirage = random.choice(equipement_life)\n",
    "    while tirage < limite:\n",
    "        cost += 1000\n",
    "        limite -= tirage\n",
    "        tirage = random.choice(equipement_life)\n",
    "    cost_samples[simulation] = cost\n",
    "\n",
    "print(np.mean(cost_samples))"
   ]
  },
  {
   "cell_type": "code",
   "execution_count": null,
   "metadata": {
    "execution": {
     "iopub.status.busy": "2025-01-23T05:49:53.484895Z",
     "iopub.status.idle": "2025-01-23T05:49:53.485428Z",
     "shell.execute_reply": "2025-01-23T05:49:53.485181Z",
     "shell.execute_reply.started": "2025-01-23T05:49:53.485156Z"
    },
    "id": "ebZquaTg-eJf",
    "trusted": true
   },
   "outputs": [],
   "source": [
    "# 2) Preventive maintenance\n",
    "period_to_be_tested = np.arange(1, 365*3-1, 50)\n",
    "nb_sample = 1000\n",
    "period_cost = np.zeros(len(period_to_be_tested))\n",
    "for idp, period in enumerate(period_to_be_tested):\n",
    "    cost_samples = np.zeros(nb_sample)\n",
    "    for simulation in range(nb_sample):\n",
    "        cost = 0\n",
    "        age = 0\n",
    "        # Each maintenance is planned\n",
    "        for planed_maintenance in range(0, 365*3-1, period):\n",
    "            # sample life of equipement after planned maintenance\n",
    "            tirage = random.choice(equipement_life)\n",
    "            limite = period\n",
    "            # If equipement lives not long enough, there is corrective maintenance (only if age is young enough)\n",
    "            if tirage < limite :\n",
    "                age += tirage\n",
    "            else: # else, we move to next planned maintenance\n",
    "                age += period\n",
    "            \n",
    "            while (tirage < limite) and (age < 365*3):\n",
    "                cost += 1000 \n",
    "                limite -= tirage # the limit is reduced because multiple failure can occur\n",
    "                tirage = random.choice(equipement_life)\n",
    "                age += tirage\n",
    "            cost += 100\n",
    "        cost_samples[simulation] = cost\n",
    "    period_cost[idp] = np.mean(cost_samples)\n",
    "print(period_cost)\n",
    "print(\"Best period:\", period_to_be_tested[np.argmin(period_cost)])\n",
    "print(\"Best cost:\", period_cost[np.argmin(period_cost)])"
   ]
  },
  {
   "cell_type": "code",
   "execution_count": null,
   "metadata": {
    "execution": {
     "iopub.status.busy": "2025-01-23T05:49:53.487042Z",
     "iopub.status.idle": "2025-01-23T05:49:53.487577Z",
     "shell.execute_reply": "2025-01-23T05:49:53.487320Z",
     "shell.execute_reply.started": "2025-01-23T05:49:53.487296Z"
    },
    "id": "7qv-xRZL-r2z",
    "trusted": true
   },
   "outputs": [],
   "source": [
    "# 3) Predictive maintenance\n",
    "nb_sample = 1000\n",
    "cost_samples = np.zeros(nb_sample)\n",
    "for simulation in range(nb_sample):\n",
    "    cost = 0\n",
    "    limite = 365*3\n",
    "    tirage = random.choice(equipement_life)\n",
    "    age = tirage\n",
    "    while (tirage < limite) and age < 365*3:\n",
    "        if np.random.rand() > 0.8:\n",
    "            cost += 1000\n",
    "        else:\n",
    "            cost += 100\n",
    "        limite -= tirage\n",
    "        tirage = random.choice(equipement_life)\n",
    "        age += tirage\n",
    "    cost_samples[simulation] = cost\n",
    "print(np.mean(cost_samples)+1)"
   ]
  },
  {
   "cell_type": "markdown",
   "metadata": {
    "id": "6e9nMpy5_Mb1"
   },
   "source": [
    "The minimum cost is realised with predictive maintenance"
   ]
  },
  {
   "cell_type": "code",
   "execution_count": null,
   "metadata": {
    "execution": {
     "iopub.status.busy": "2025-01-23T05:49:53.489091Z",
     "iopub.status.idle": "2025-01-23T05:49:53.489651Z",
     "shell.execute_reply": "2025-01-23T05:49:53.489382Z",
     "shell.execute_reply.started": "2025-01-23T05:49:53.489358Z"
    },
    "id": "2aeCsEu8lYJp",
    "trusted": true
   },
   "outputs": [],
   "source": [
    "filename = \"/kaggle/input/predictive-maintenance-dataset/Dataset_3.2.h5\"\n",
    "\n",
    "# Load data\n",
    "with h5py.File(filename, 'r') as hdf:\n",
    "        # Development set\n",
    "        W = np.array(hdf.get('W'))             # W\n",
    "        X_s = np.array(hdf.get('X_s'))         # X_s\n",
    "        X_v = np.array(hdf.get('X_v'))         # X_v\n",
    "        T = np.array(hdf.get('T'))             # T\n",
    "        Y = np.array(hdf.get('Y'))             # RUL  \n",
    "        A = np.array(hdf.get('A'))             # Auxiliary\n",
    "        \n",
    "        # Varnams\n",
    "        W_var = np.array(hdf.get('W_var'))\n",
    "        X_s_var = np.array(hdf.get('X_s_var'))  \n",
    "        X_v_var = np.array(hdf.get('X_v_var')) \n",
    "        T_var = np.array(hdf.get('T_var'))\n",
    "        A_var = np.array(hdf.get('A_var'))\n",
    "\n",
    "        # from np.array to list dtype U4/U5\n",
    "        W_var = list(np.array(W_var, dtype='U20'))\n",
    "        X_s_var = list(np.array(X_s_var, dtype='U20'))  \n",
    "        X_v_var = list(np.array(X_v_var, dtype='U20')) \n",
    "        T_var = list(np.array(T_var, dtype='U20'))\n",
    "        A_var = list(np.array(A_var, dtype='U20'))"
   ]
  },
  {
   "cell_type": "markdown",
   "metadata": {
    "id": "NztlzjjFlah9"
   },
   "source": [
    "Number of cycles for which the motor is sent to maintenance"
   ]
  },
  {
   "cell_type": "code",
   "execution_count": null,
   "metadata": {
    "execution": {
     "iopub.status.busy": "2025-01-23T05:49:53.492169Z",
     "iopub.status.idle": "2025-01-23T05:49:53.492715Z",
     "shell.execute_reply": "2025-01-23T05:49:53.492449Z",
     "shell.execute_reply.started": "2025-01-23T05:49:53.492425Z"
    },
    "id": "zuNdyU6ImRoO",
    "trusted": true
   },
   "outputs": [],
   "source": [
    "df_A = pd.DataFrame(data=A, columns=A_var)\n",
    "print(df_A.describe())\n",
    "print('Engine units IDs in dataframe: ', np.unique(df_A['unit']))\n",
    "# Votre code\n",
    "df_failures = pd.DataFrame()\n",
    "\n",
    "fail = []\n",
    "for i in np.unique(df_A['unit']):\n",
    "    print('Unit: ' + str(i) + ' - Number of flight cyles (t_{EOF}): ', len(np.unique(df_A.loc[df_A['unit'] == i, 'cycle'])))\n",
    "    fail.append(len(np.unique(df_A.loc[df_A['unit'] == i, 'cycle'])))\n",
    "\n",
    "df_failures['unit'] = np.unique(df_A['unit'])\n",
    "df_failures['fail'] = fail\n",
    "\n",
    "plt.plot(df_failures['fail'], np.ones(df_failures.shape[0]), '+')\n",
    "plt.xlim(0, 120)"
   ]
  },
  {
   "cell_type": "code",
   "execution_count": null,
   "metadata": {
    "execution": {
     "iopub.status.busy": "2025-01-23T05:49:53.493725Z",
     "iopub.status.idle": "2025-01-23T05:49:53.494230Z",
     "shell.execute_reply": "2025-01-23T05:49:53.493988Z",
     "shell.execute_reply.started": "2025-01-23T05:49:53.493965Z"
    },
    "id": "P_J2HtQwnGRl",
    "trusted": true
   },
   "outputs": [],
   "source": [
    "df_T = pd.DataFrame(data=T, columns=T_var) \n",
    "df_T['unit'] = df_A['unit'].values\n",
    "df_T['cycle'] = df_A['cycle'].values\n",
    "df_T.describe()\n",
    "\n",
    "first = True\n",
    "for u in df_A['unit'].unique():\n",
    "    if first:\n",
    "        df_tmp = df_T.loc[df_A['unit']==u]\n",
    "        df_tmp.index = df_T['cycle'].loc[df_A['unit']==u]\n",
    "        ax = df_tmp.plot(subplots=True, figsize=(20, 10))\n",
    "        first = False\n",
    "    else:\n",
    "        df_tmp = df_T.loc[df_A['unit']==u]\n",
    "        df_tmp.index = df_T['cycle'].loc[df_A['unit']==u]\n",
    "        df_tmp.plot(subplots=True, figsize=(20, 10), ax= ax)"
   ]
  },
  {
   "cell_type": "code",
   "execution_count": null,
   "metadata": {
    "execution": {
     "iopub.status.busy": "2025-01-23T05:49:53.496715Z",
     "iopub.status.idle": "2025-01-23T05:49:53.497235Z",
     "shell.execute_reply": "2025-01-23T05:49:53.496995Z",
     "shell.execute_reply.started": "2025-01-23T05:49:53.496971Z"
    },
    "id": "7OwCj6L3oQcM",
    "trusted": true
   },
   "outputs": [],
   "source": [
    "# Sensors dataframe\n",
    "df_X_s = pd.DataFrame(data=X_s, columns=X_s_var) \n",
    "df_X_v = pd.DataFrame(data=X_v, columns=X_v_var) "
   ]
  },
  {
   "cell_type": "markdown",
   "metadata": {
    "id": "tmRtd4EQCPcN"
   },
   "source": [
    "We use StratifiedShuffleSplit for train / validation / test split of the dataframe"
   ]
  },
  {
   "cell_type": "code",
   "execution_count": null,
   "metadata": {
    "execution": {
     "iopub.status.busy": "2025-01-23T05:49:53.499333Z",
     "iopub.status.idle": "2025-01-23T05:49:53.499898Z",
     "shell.execute_reply": "2025-01-23T05:49:53.499620Z",
     "shell.execute_reply.started": "2025-01-23T05:49:53.499595Z"
    },
    "id": "ibNOyQ2On7F9",
    "trusted": true
   },
   "outputs": [],
   "source": [
    "ssf = StratifiedShuffleSplit(n_splits=1, test_size=0.2, random_state=42)"
   ]
  },
  {
   "cell_type": "markdown",
   "metadata": {
    "id": "gHiWvx9a_okD"
   },
   "source": [
    "## Data cleaning and selection"
   ]
  },
  {
   "cell_type": "markdown",
   "metadata": {
    "id": "Eofd_O051S0q"
   },
   "source": [
    "The three types of possible missing data are :\n",
    "\n",
    "* Completely Random Missing Data (MCAR)\n",
    "* Random Missing Data (MAR)\n",
    "* Deterministic Missing Data (MNAR)"
   ]
  },
  {
   "cell_type": "code",
   "execution_count": null,
   "metadata": {
    "execution": {
     "iopub.status.busy": "2025-01-23T05:49:53.502051Z",
     "iopub.status.idle": "2025-01-23T05:49:53.502885Z",
     "shell.execute_reply": "2025-01-23T05:49:53.502604Z",
     "shell.execute_reply.started": "2025-01-23T05:49:53.502575Z"
    },
    "id": "MSJ1HRyI1ZlA",
    "trusted": true
   },
   "outputs": [],
   "source": [
    "filename = \"/kaggle/input/predictive-maintenance-dataset/Dataset_4.1.h5\"\n",
    "\n",
    "# Load data\n",
    "with h5py.File(filename, 'r') as hdf:\n",
    "        # Development set\n",
    "        W = np.array(hdf.get('W'))             # W\n",
    "        X_s = np.array(hdf.get('X_s'))         # X_s\n",
    "        X_v = np.array(hdf.get('X_v'))         # X_v\n",
    "        T = np.array(hdf.get('T'))             # T\n",
    "        Y = np.array(hdf.get('Y'))             # RUL  \n",
    "        A = np.array(hdf.get('A'))             # Auxiliary\n",
    "        \n",
    "        # Varnams\n",
    "        W_var = np.array(hdf.get('W_var'))\n",
    "        X_s_var = np.array(hdf.get('X_s_var'))  \n",
    "        X_v_var = np.array(hdf.get('X_v_var')) \n",
    "        T_var = np.array(hdf.get('T_var'))\n",
    "        A_var = np.array(hdf.get('A_var'))\n",
    "\n",
    "        # from np.array to list dtype U4/U5\n",
    "        W_var = list(np.array(W_var, dtype='U20'))\n",
    "        X_s_var = list(np.array(X_s_var, dtype='U20'))  \n",
    "        X_v_var = list(np.array(X_v_var, dtype='U20')) \n",
    "        T_var = list(np.array(T_var, dtype='U20'))\n",
    "        A_var = list(np.array(A_var, dtype='U20'))\n",
    "    \n",
    "df_A = pd.DataFrame(data=A, columns=A_var)\n",
    "print(df_A.describe())\n",
    "print('Engine units IDs in the dataframe: ', np.unique(df_A['unit']))\n",
    "df_T = pd.DataFrame(data=T, columns=T_var) \n",
    "df_T['unit'] = df_A['unit'].values\n",
    "df_T['cycle'] = df_A['cycle'].values\n",
    "# Dataframe of sensors\n",
    "df_X_s = pd.DataFrame(data=X_s, columns=X_s_var) \n",
    "df_X_v = pd.DataFrame(data=X_v, columns=X_v_var)"
   ]
  },
  {
   "cell_type": "markdown",
   "metadata": {
    "id": "tWp-eYwnzezk"
   },
   "source": [
    "Let visualise those data"
   ]
  },
  {
   "cell_type": "code",
   "execution_count": null,
   "metadata": {
    "execution": {
     "iopub.status.busy": "2025-01-23T05:49:53.504732Z",
     "iopub.status.idle": "2025-01-23T05:49:53.505670Z",
     "shell.execute_reply": "2025-01-23T05:49:53.505390Z",
     "shell.execute_reply.started": "2025-01-23T05:49:53.505362Z"
    },
    "id": "zoljUGR4trbk",
    "trusted": true
   },
   "outputs": [],
   "source": [
    "# First, we show values and types for each variable\n",
    "for i in df_A.keys():\n",
    "    print(df_A[i].iloc[0:3])\n",
    "\n",
    "for j in df_T.keys():\n",
    "    print(df_T[j].iloc[0:3])\n",
    "\n",
    "for k in df_X_s.keys():\n",
    "    print(df_X_s[k].iloc[0:3])\n",
    "\n",
    "for l in df_X_v.keys():\n",
    "    print(df_X_v[l].iloc[0:3])"
   ]
  },
  {
   "cell_type": "code",
   "execution_count": null,
   "metadata": {
    "execution": {
     "iopub.status.busy": "2025-01-23T05:49:53.507408Z",
     "iopub.status.idle": "2025-01-23T05:49:53.507944Z",
     "shell.execute_reply": "2025-01-23T05:49:53.507694Z",
     "shell.execute_reply.started": "2025-01-23T05:49:53.507670Z"
    },
    "id": "1K_d3rCBz_N6",
    "trusted": true
   },
   "outputs": [],
   "source": [
    "# We visualise the mean of data in the dataframe\n",
    "print(\"df_A : \")\n",
    "print(pd.DataFrame(df_A.isna().mean()),\"\\n\")\n",
    "print(\"df_T : \")\n",
    "print(pd.DataFrame(df_T.isna().mean()),\"\\n\")\n",
    "print(\"df_X_s : \")\n",
    "print(pd.DataFrame(df_X_s.isna().mean()),\"\\n\")\n",
    "print(\"df_X_v : \")\n",
    "print(pd.DataFrame(df_X_v.isna().mean()),\"\\n\")"
   ]
  },
  {
   "cell_type": "code",
   "execution_count": null,
   "metadata": {
    "execution": {
     "iopub.status.busy": "2025-01-23T05:49:53.509540Z",
     "iopub.status.idle": "2025-01-23T05:49:53.510126Z",
     "shell.execute_reply": "2025-01-23T05:49:53.509974Z",
     "shell.execute_reply.started": "2025-01-23T05:49:53.509949Z"
    },
    "id": "Ye6kiWm3yz3z",
    "trusted": true
   },
   "outputs": [],
   "source": [
    "# We use missingno value\n",
    "missingno.matrix(df_X_s)"
   ]
  },
  {
   "cell_type": "code",
   "execution_count": null,
   "metadata": {
    "execution": {
     "iopub.status.busy": "2025-01-23T05:49:53.511140Z",
     "iopub.status.idle": "2025-01-23T05:49:53.511427Z",
     "shell.execute_reply": "2025-01-23T05:49:53.511306Z",
     "shell.execute_reply.started": "2025-01-23T05:49:53.511292Z"
    },
    "id": "hJ9P_r591y4k",
    "trusted": true
   },
   "outputs": [],
   "source": [
    "df_X_s_dropna= df_X_s.dropna()\n",
    "print(len(df_X_s_dropna)/len(df_X_s))\n",
    "# Removing missing data only remove 3% of the dataset"
   ]
  },
  {
   "cell_type": "code",
   "execution_count": null,
   "metadata": {
    "execution": {
     "iopub.status.busy": "2025-01-23T05:49:53.512750Z",
     "iopub.status.idle": "2025-01-23T05:49:53.513032Z",
     "shell.execute_reply": "2025-01-23T05:49:53.512914Z",
     "shell.execute_reply.started": "2025-01-23T05:49:53.512900Z"
    },
    "id": "7WFaQcsi2f7p",
    "trusted": true
   },
   "outputs": [],
   "source": [
    "myRIF = IsolationForest(n_estimators=500, contamination=0.1)\n",
    "df_X_s_dropna.loc[:, \"_isoutlier\"] = myRIF.fit_predict(df_X_s_dropna)\n",
    "df_X_v.loc[:, \"_isoutlier\"] = myRIF.fit_predict(df_X_v)\n",
    "\n",
    "perc_1 = 100*(df_X_s_dropna.loc[:, \"_isoutlier\"]==-1).mean()\n",
    "perc_2 = 100*(df_X_v.loc[:, \"_isoutlier\"]==-1).mean()\n",
    "print(f\"anomaly percent in senser X_s: {perc_1} %\")\n",
    "print(f\"anomaly percent in senser X_v: {perc_2} %\")"
   ]
  },
  {
   "cell_type": "markdown",
   "metadata": {
    "id": "86hsMtHe2_A_"
   },
   "source": [
    "We obtain 10% of outliers in the dataset. Let's visualise them :"
   ]
  },
  {
   "cell_type": "code",
   "execution_count": null,
   "metadata": {
    "execution": {
     "iopub.status.busy": "2025-01-23T05:49:53.514246Z",
     "iopub.status.idle": "2025-01-23T05:49:53.514507Z",
     "shell.execute_reply": "2025-01-23T05:49:53.514388Z",
     "shell.execute_reply.started": "2025-01-23T05:49:53.514376Z"
    },
    "id": "Uk6RLido3Kmp",
    "trusted": true
   },
   "outputs": [],
   "source": [
    "for k in df_X_s_dropna.keys():\n",
    "    sns.displot(data=df_X_s_dropna, x=k, hue=\"_isoutlier\", kind=\"hist\", bins=30, multiple=\"stack\")"
   ]
  },
  {
   "cell_type": "code",
   "execution_count": null,
   "metadata": {
    "execution": {
     "iopub.status.busy": "2025-01-23T05:49:53.515544Z",
     "iopub.status.idle": "2025-01-23T05:49:53.515866Z",
     "shell.execute_reply": "2025-01-23T05:49:53.515740Z",
     "shell.execute_reply.started": "2025-01-23T05:49:53.515726Z"
    },
    "id": "GewD4Hpf4RTZ",
    "trusted": true
   },
   "outputs": [],
   "source": [
    "for k in df_X_v.keys():\n",
    "    sns.displot(data=df_X_v, x=k, hue='_isoutlier', kind='hist', bins=30, multiple=\"stack\")"
   ]
  }
 ],
 "metadata": {
  "kaggle": {
   "accelerator": "gpu",
   "dataSources": [
    {
     "datasetId": 3304815,
     "sourceId": 5764529,
     "sourceType": "datasetVersion"
    }
   ],
   "dockerImageVersionId": 30476,
   "isGpuEnabled": true,
   "isInternetEnabled": true,
   "language": "python",
   "sourceType": "notebook"
  },
  "kernelspec": {
   "display_name": "Python 3",
   "language": "python",
   "name": "python3"
  },
  "language_info": {
   "codemirror_mode": {
    "name": "ipython",
    "version": 3
   },
   "file_extension": ".py",
   "mimetype": "text/x-python",
   "name": "python",
   "nbconvert_exporter": "python",
   "pygments_lexer": "ipython3",
   "version": "3.10.10"
  }
 },
 "nbformat": 4,
 "nbformat_minor": 4
}
